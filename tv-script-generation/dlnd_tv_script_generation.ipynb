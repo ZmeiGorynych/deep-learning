{
 "cells": [
  {
   "cell_type": "markdown",
   "metadata": {
    "deletable": true,
    "editable": true
   },
   "source": [
    "# TV Script Generation\n",
    "In this project, you'll generate your own [Simpsons](https://en.wikipedia.org/wiki/The_Simpsons) TV scripts using RNNs.  You'll be using part of the [Simpsons dataset](https://www.kaggle.com/wcukierski/the-simpsons-by-the-data) of scripts from 27 seasons.  The Neural Network you'll build will generate a new TV script for a scene at [Moe's Tavern](https://simpsonswiki.com/wiki/Moe's_Tavern).\n",
    "## Get the Data\n",
    "The data is already provided for you.  You'll be using a subset of the original dataset.  It consists of only the scenes in Moe's Tavern.  This doesn't include other versions of the tavern, like \"Moe's Cavern\", \"Flaming Moe's\", \"Uncle Moe's Family Feed-Bag\", etc.."
   ]
  },
  {
   "cell_type": "code",
   "execution_count": 1,
   "metadata": {
    "collapsed": false,
    "deletable": true,
    "editable": true
   },
   "outputs": [],
   "source": [
    "\"\"\"\n",
    "DON'T MODIFY ANYTHING IN THIS CELL\n",
    "\"\"\"\n",
    "import helper\n",
    "\n",
    "data_dir = './data/simpsons/moes_tavern_lines.txt'\n",
    "text = helper.load_data(data_dir)\n",
    "# Ignore notice, since we don't use it for analysing the data\n",
    "text = text[81:]"
   ]
  },
  {
   "cell_type": "markdown",
   "metadata": {
    "deletable": true,
    "editable": true
   },
   "source": [
    "## Explore the Data\n",
    "Play around with `view_sentence_range` to view different parts of the data."
   ]
  },
  {
   "cell_type": "code",
   "execution_count": 2,
   "metadata": {
    "collapsed": false,
    "deletable": true,
    "editable": true
   },
   "outputs": [
    {
     "name": "stdout",
     "output_type": "stream",
     "text": [
      "Dataset Stats\n",
      "Roughly the number of unique words: 11492\n",
      "Number of scenes: 262\n",
      "Average number of sentences in each scene: 15.248091603053435\n",
      "Number of lines: 4257\n",
      "Average number of words in each line: 11.50434578341555\n",
      "\n",
      "The sentences 50 to 60:\n",
      "Moe_Szyslak: Sorry, Homer.\n",
      "Homer_Simpson: (LOOKING AT WATCH) Ah. Finished with fifteen seconds to spare.\n",
      "Little_Man: (CONCERNED) What's the matter, buddy?\n",
      "Homer_Simpson: The moron next door closed early!\n",
      "Little_Man: (STIFFENING) I happen to be that moron.\n",
      "Homer_Simpson: Oh, me and my trenchant mouth.\n",
      "Homer_Simpson: Please, you've got to open that store.\n",
      "Little_Man: Let me think about it... Eh... No.\n",
      "Homer_Simpson: Okay, okay. But I want you to see a picture of the little girl you're disappointing. (GOES THROUGH HIS WALLET) Well I don't have one.\n",
      "Moe_Szyslak: (TO LITTLE MAN) Come on, Jer. Open up. Be a pal. Remember when I pulled you and your wife out of that burning car?\n"
     ]
    }
   ],
   "source": [
    "view_sentence_range = (50,60)\n",
    "\n",
    "\"\"\"\n",
    "DON'T MODIFY ANYTHING IN THIS CELL\n",
    "\"\"\"\n",
    "import numpy as np\n",
    "\n",
    "print('Dataset Stats')\n",
    "print('Roughly the number of unique words: {}'.format(len({word: None for word in text.split()})))\n",
    "scenes = text.split('\\n\\n')\n",
    "print('Number of scenes: {}'.format(len(scenes)))\n",
    "sentence_count_scene = [scene.count('\\n') for scene in scenes]\n",
    "print('Average number of sentences in each scene: {}'.format(np.average(sentence_count_scene)))\n",
    "\n",
    "sentences = [sentence for scene in scenes for sentence in scene.split('\\n')]\n",
    "print('Number of lines: {}'.format(len(sentences)))\n",
    "word_count_sentence = [len(sentence.split()) for sentence in sentences]\n",
    "print('Average number of words in each line: {}'.format(np.average(word_count_sentence)))\n",
    "\n",
    "print()\n",
    "print('The sentences {} to {}:'.format(*view_sentence_range))\n",
    "print('\\n'.join(text.split('\\n')[view_sentence_range[0]:view_sentence_range[1]]))"
   ]
  },
  {
   "cell_type": "markdown",
   "metadata": {
    "deletable": true,
    "editable": true
   },
   "source": [
    "## Implement Preprocessing Functions\n",
    "The first thing to do to any dataset is preprocessing.  Implement the following preprocessing functions below:\n",
    "- Lookup Table\n",
    "- Tokenize Punctuation\n",
    "\n",
    "### Lookup Table\n",
    "To create a word embedding, you first need to transform the words to ids.  In this function, create two dictionaries:\n",
    "- Dictionary to go from the words to an id, we'll call `vocab_to_int`\n",
    "- Dictionary to go from the id to word, we'll call `int_to_vocab`\n",
    "\n",
    "Return these dictionaries in the following tuple `(vocab_to_int, int_to_vocab)`"
   ]
  },
  {
   "cell_type": "code",
   "execution_count": 3,
   "metadata": {
    "collapsed": false,
    "deletable": true,
    "editable": true
   },
   "outputs": [
    {
     "name": "stdout",
     "output_type": "stream",
     "text": [
      "71\n",
      "Tests Passed\n"
     ]
    }
   ],
   "source": [
    "import numpy as np\n",
    "import problem_unittests as tests\n",
    "\n",
    "def create_lookup_tables(text):\n",
    "    \"\"\"\n",
    "    Create lookup tables for vocabulary\n",
    "    :param text: The text of tv scripts split into words\n",
    "    :return: A tuple of dicts (vocab_to_int, int_to_vocab)\n",
    "    \"\"\"\n",
    "    unique_words = set(text)\n",
    "    print(len(unique_words))\n",
    "    # TODO: Implement Function\n",
    "    vocab_to_int = {word:ind for ind, word in enumerate(unique_words)}\n",
    "    int_to_vocab = {ind:word for word, ind in vocab_to_int.items()}\n",
    "    assert vocab_to_int[int_to_vocab[10]] ==10\n",
    "    return vocab_to_int, int_to_vocab\n",
    "\n",
    "\n",
    "\"\"\"\n",
    "DON'T MODIFY ANYTHING IN THIS CELL THAT IS BELOW THIS LINE\n",
    "\"\"\"\n",
    "tests.test_create_lookup_tables(create_lookup_tables)"
   ]
  },
  {
   "cell_type": "markdown",
   "metadata": {
    "deletable": true,
    "editable": true
   },
   "source": [
    "### Tokenize Punctuation\n",
    "We'll be splitting the script into a word array using spaces as delimiters.  However, punctuations like periods and exclamation marks make it hard for the neural network to distinguish between the word \"bye\" and \"bye!\".\n",
    "\n",
    "Implement the function `token_lookup` to return a dict that will be used to tokenize symbols like \"!\" into \"||Exclamation_Mark||\".  Create a dictionary for the following symbols where the symbol is the key and value is the token:\n",
    "- Period ( . )\n",
    "- Comma ( , )\n",
    "- Quotation Mark ( \" )\n",
    "- Semicolon ( ; )\n",
    "- Exclamation mark ( ! )\n",
    "- Question mark ( ? )\n",
    "- Left Parentheses ( ( )\n",
    "- Right Parentheses ( ) )\n",
    "- Dash ( -- )\n",
    "- Return ( \\n )\n",
    "\n",
    "This dictionary will be used to token the symbols and add the delimiter (space) around it.  This separates the symbols as it's own word, making it easier for the neural network to predict on the next word. Make sure you don't use a token that could be confused as a word. Instead of using the token \"dash\", try using something like \"||dash||\"."
   ]
  },
  {
   "cell_type": "code",
   "execution_count": 4,
   "metadata": {
    "collapsed": false,
    "deletable": true,
    "editable": true
   },
   "outputs": [
    {
     "name": "stdout",
     "output_type": "stream",
     "text": [
      "Tests Passed\n"
     ]
    }
   ],
   "source": [
    "def token_lookup():\n",
    "    \"\"\"\n",
    "    Generate a dict to turn punctuation into a token.\n",
    "    :return: Tokenize dictionary where the key is the punctuation and the value is the token\n",
    "    \"\"\"\n",
    "    my_dict ={  '.': '||Period||', \n",
    "                ',': '||Comma||', \n",
    "                '\"': '||QuotationMark||', \n",
    "                ';': '||Semicolon||', \n",
    "                '!': '||Exclamationmark||', \n",
    "                '?': '||Questionmark||', \n",
    "                '(': '||LeftParentheses||', \n",
    "                ')': '||RightParentheses||', \n",
    "                '--': '||Dash||', \n",
    "                '\\n': '||Return||'}\n",
    "    return my_dict\n",
    "\n",
    "\"\"\"\n",
    "DON'T MODIFY ANYTHING IN THIS CELL THAT IS BELOW THIS LINE\n",
    "\"\"\"\n",
    "tests.test_tokenize(token_lookup)"
   ]
  },
  {
   "cell_type": "markdown",
   "metadata": {
    "deletable": true,
    "editable": true
   },
   "source": [
    "## Preprocess all the data and save it\n",
    "Running the code cell below will preprocess all the data and save it to file."
   ]
  },
  {
   "cell_type": "code",
   "execution_count": 5,
   "metadata": {
    "collapsed": false,
    "deletable": true,
    "editable": true
   },
   "outputs": [
    {
     "name": "stdout",
     "output_type": "stream",
     "text": [
      "6779\n"
     ]
    }
   ],
   "source": [
    "\"\"\"\n",
    "DON'T MODIFY ANYTHING IN THIS CELL\n",
    "\"\"\"\n",
    "# Preprocess Training, Validation, and Testing Data\n",
    "helper.preprocess_and_save_data(data_dir, token_lookup, create_lookup_tables)"
   ]
  },
  {
   "cell_type": "markdown",
   "metadata": {
    "deletable": true,
    "editable": true
   },
   "source": [
    "# Check Point\n",
    "This is your first checkpoint. If you ever decide to come back to this notebook or have to restart the notebook, you can start from here. The preprocessed data has been saved to disk."
   ]
  },
  {
   "cell_type": "code",
   "execution_count": 6,
   "metadata": {
    "collapsed": false,
    "deletable": true,
    "editable": true
   },
   "outputs": [],
   "source": [
    "\"\"\"\n",
    "DON'T MODIFY ANYTHING IN THIS CELL\n",
    "\"\"\"\n",
    "import helper\n",
    "import numpy as np\n",
    "import problem_unittests as tests\n",
    "\n",
    "int_text, vocab_to_int, int_to_vocab, token_dict = helper.load_preprocess()"
   ]
  },
  {
   "cell_type": "markdown",
   "metadata": {
    "deletable": true,
    "editable": true
   },
   "source": [
    "## Build the Neural Network\n",
    "You'll build the components necessary to build a RNN by implementing the following functions below:\n",
    "- get_inputs\n",
    "- get_init_cell\n",
    "- get_embed\n",
    "- build_rnn\n",
    "- build_nn\n",
    "- get_batches\n",
    "\n",
    "### Check the Version of TensorFlow and Access to GPU"
   ]
  },
  {
   "cell_type": "code",
   "execution_count": 7,
   "metadata": {
    "collapsed": false,
    "deletable": true,
    "editable": true
   },
   "outputs": [
    {
     "name": "stdout",
     "output_type": "stream",
     "text": [
      "TensorFlow Version: 1.0.0\n",
      "Default GPU Device: /gpu:0\n"
     ]
    }
   ],
   "source": [
    "\"\"\"\n",
    "DON'T MODIFY ANYTHING IN THIS CELL\n",
    "\"\"\"\n",
    "from distutils.version import LooseVersion\n",
    "import warnings\n",
    "import tensorflow as tf\n",
    "\n",
    "# Check TensorFlow Version\n",
    "assert LooseVersion(tf.__version__) >= LooseVersion('1.0'), 'Please use TensorFlow version 1.0 or newer'\n",
    "print('TensorFlow Version: {}'.format(tf.__version__))\n",
    "\n",
    "# Check for a GPU\n",
    "if not tf.test.gpu_device_name():\n",
    "    warnings.warn('No GPU found. Please use a GPU to train your neural network.')\n",
    "else:\n",
    "    print('Default GPU Device: {}'.format(tf.test.gpu_device_name()))"
   ]
  },
  {
   "cell_type": "markdown",
   "metadata": {
    "deletable": true,
    "editable": true
   },
   "source": [
    "### Input\n",
    "Implement the `get_inputs()` function to create TF Placeholders for the Neural Network.  It should create the following placeholders:\n",
    "- Input text placeholder named \"input\" using the [TF Placeholder](https://www.tensorflow.org/api_docs/python/tf/placeholder) `name` parameter.\n",
    "- Targets placeholder\n",
    "- Learning Rate placeholder\n",
    "\n",
    "Return the placeholders in the following tuple `(Input, Targets, LearningRate)`"
   ]
  },
  {
   "cell_type": "code",
   "execution_count": 8,
   "metadata": {
    "collapsed": false,
    "deletable": true,
    "editable": true
   },
   "outputs": [
    {
     "name": "stdout",
     "output_type": "stream",
     "text": [
      "Tests Passed\n"
     ]
    }
   ],
   "source": [
    "def get_inputs():\n",
    "    \"\"\"\n",
    "    Create TF Placeholders for input, targets, and learning rate.\n",
    "    :return: Tuple (input, targets, learning rate)\n",
    "    \"\"\"\n",
    "    input = tf.placeholder(tf.int32, [None, None], name = 'input')\n",
    "    targets = tf.placeholder(tf.int32, [None, None], name = 'targets')\n",
    "    learn_rate = tf.placeholder(tf.float32)\n",
    "    # TODO: Implement Function\n",
    "    return input, targets, learn_rate\n",
    "\n",
    "\n",
    "\"\"\"\n",
    "DON'T MODIFY ANYTHING IN THIS CELL THAT IS BELOW THIS LINE\n",
    "\"\"\"\n",
    "tests.test_get_inputs(get_inputs)"
   ]
  },
  {
   "cell_type": "markdown",
   "metadata": {
    "deletable": true,
    "editable": true
   },
   "source": [
    "### Build RNN Cell and Initialize\n",
    "Stack one or more [`BasicLSTMCells`](https://www.tensorflow.org/api_docs/python/tf/contrib/rnn/BasicLSTMCell) in a [`MultiRNNCell`](https://www.tensorflow.org/api_docs/python/tf/contrib/rnn/MultiRNNCell).\n",
    "- The Rnn size should be set using `rnn_size`\n",
    "- Initalize Cell State using the MultiRNNCell's [`zero_state()`](https://www.tensorflow.org/api_docs/python/tf/contrib/rnn/MultiRNNCell#zero_state) function\n",
    "    - Apply the name \"initial_state\" to the initial state using [`tf.identity()`](https://www.tensorflow.org/api_docs/python/tf/identity)\n",
    "\n",
    "Return the cell and initial state in the following tuple `(Cell, InitialState)`"
   ]
  },
  {
   "cell_type": "code",
   "execution_count": 9,
   "metadata": {
    "collapsed": false,
    "deletable": true,
    "editable": true,
    "scrolled": false
   },
   "outputs": [
    {
     "name": "stdout",
     "output_type": "stream",
     "text": [
      "Tests Passed\n"
     ]
    }
   ],
   "source": [
    "def get_init_cell(batch_size, rnn_size, \n",
    "                  rnn_layers = 2, keep_prob = 1, cell_type = tf.contrib.rnn.BasicLSTMCell):\n",
    "    \"\"\"\n",
    "    Create an RNN Cell and initialize it.\n",
    "    :param batch_size: Size of batches\n",
    "    :param rnn_size: Size of RNNs\n",
    "    :return: Tuple (cell, initialize state)\n",
    "    :keep_prob: dropout probability, don't want to train without that\n",
    "    \"\"\"\n",
    "    #print(rnn_layers, keep_prob)\n",
    "    lstm = tf.contrib.rnn.BasicLSTMCell(rnn_size)\n",
    "#     lstm = tf.contrib.rnn.GRUCell(rnn_size, \n",
    "#                      kernel_initializer = tf.truncated_normal_initializer(stddev = 0.01)   \n",
    "#                      )  # Your basic LSTM cell\n",
    "    drop = tf.contrib.rnn.DropoutWrapper(lstm, output_keep_prob=keep_prob) # Add dropout to the cell\n",
    "    cell = tf.contrib.rnn.MultiRNNCell([drop] * rnn_layers)  # Stack up multiple LSTM layers, for deep learning\n",
    "    if batch_size is not None: \n",
    "        # initial state is not used anywhere downstream, so the below is just to pass the tests\n",
    "        initial_state = cell.zero_state(batch_size, tf.float32)# Getting an initial state of all zeros\n",
    "        initial_state = tf.identity(initial_state, name = 'initial_state')\n",
    "    else:\n",
    "        initial_state = None\n",
    "    return cell, initial_state\n",
    "\n",
    "\n",
    "\"\"\"\n",
    "DON'T MODIFY ANYTHING IN THIS CELL THAT IS BELOW THIS LINE\n",
    "\"\"\"\n",
    "tests.test_get_init_cell(get_init_cell)"
   ]
  },
  {
   "cell_type": "markdown",
   "metadata": {
    "deletable": true,
    "editable": true
   },
   "source": [
    "### Word Embedding\n",
    "Apply embedding to `input_data` using TensorFlow.  Return the embedded sequence."
   ]
  },
  {
   "cell_type": "code",
   "execution_count": 10,
   "metadata": {
    "collapsed": false,
    "deletable": true,
    "editable": true
   },
   "outputs": [
    {
     "name": "stdout",
     "output_type": "stream",
     "text": [
      "Tests Passed\n"
     ]
    }
   ],
   "source": [
    "from math import sqrt\n",
    "def get_embed(input_data, vocab_size, embed_dim):\n",
    "    \"\"\"\n",
    "    Create embedding for <input_data>.\n",
    "    :param input_data: TF placeholder for text input.\n",
    "    :param vocab_size: Number of words in vocabulary.\n",
    "    :param embed_dim: Number of embedding dimensions\n",
    "    :return: Embedded input.\n",
    "    \"\"\"\n",
    "    # TODO: Implement Function\n",
    "    embed_dims = [vocab_size, embed_dim]\n",
    "    embedding = tf.Variable(tf.truncated_normal(embed_dims,\n",
    "                        stddev = 0.1/sqrt(embed_dims[0]*embed_dims[1])), name = 'embedding_matrix')\n",
    "    embed = tf.nn.embedding_lookup(embedding, input_data)\n",
    "    return embed\n",
    "\n",
    "\n",
    "\"\"\"\n",
    "DON'T MODIFY ANYTHING IN THIS CELL THAT IS BELOW THIS LINE\n",
    "\"\"\"\n",
    "tests.test_get_embed(get_embed)"
   ]
  },
  {
   "cell_type": "markdown",
   "metadata": {
    "deletable": true,
    "editable": true
   },
   "source": [
    "### Build RNN\n",
    "You created a RNN Cell in the `get_init_cell()` function.  Time to use the cell to create a RNN.\n",
    "- Build the RNN using the [`tf.nn.dynamic_rnn()`](https://www.tensorflow.org/api_docs/python/tf/nn/dynamic_rnn)\n",
    " - Apply the name \"final_state\" to the final state using [`tf.identity()`](https://www.tensorflow.org/api_docs/python/tf/identity)\n",
    "\n",
    "Return the outputs and final_state state in the following tuple `(Outputs, FinalState)` "
   ]
  },
  {
   "cell_type": "code",
   "execution_count": 11,
   "metadata": {
    "collapsed": false,
    "deletable": true,
    "editable": true
   },
   "outputs": [
    {
     "name": "stdout",
     "output_type": "stream",
     "text": [
      "Tests Passed\n"
     ]
    }
   ],
   "source": [
    "def build_rnn(cell, inputs):\n",
    "    \"\"\"\n",
    "    Create a RNN using a RNN Cell\n",
    "    :param cell: RNN Cell\n",
    "    :param inputs: Input text data\n",
    "    :return: Tuple (Outputs, Final State)\n",
    "    \"\"\"\n",
    "    outputs, final_state = tf.nn.dynamic_rnn(cell, inputs, dtype = tf.float32)\n",
    "    final_state = tf.identity(final_state, name = 'final_state')\n",
    "    return outputs, final_state\n",
    "\n",
    "\n",
    "\"\"\"\n",
    "DON'T MODIFY ANYTHING IN THIS CELL THAT IS BELOW THIS LINE\n",
    "\"\"\"\n",
    "tests.test_build_rnn(build_rnn)"
   ]
  },
  {
   "cell_type": "markdown",
   "metadata": {
    "deletable": true,
    "editable": true
   },
   "source": [
    "### Build the Neural Network\n",
    "Apply the functions you implemented above to:\n",
    "- Apply embedding to `input_data` using your `get_embed(input_data, vocab_size, embed_dim)` function.\n",
    "- Build RNN using `cell` and your `build_rnn(cell, inputs)` function.\n",
    "- Apply a fully connected layer with a linear activation and `vocab_size` as the number of outputs.\n",
    "\n",
    "Return the logits and final state in the following tuple (Logits, FinalState) "
   ]
  },
  {
   "cell_type": "code",
   "execution_count": 12,
   "metadata": {
    "collapsed": false,
    "deletable": true,
    "editable": true
   },
   "outputs": [
    {
     "name": "stdout",
     "output_type": "stream",
     "text": [
      "Tests Passed\n"
     ]
    }
   ],
   "source": [
    "def build_nn(cell, rnn_size, input_data, vocab_size, embed_dim):\n",
    "    \"\"\"\n",
    "    Build part of the neural network\n",
    "    :param cell: RNN cell\n",
    "    :param rnn_size: Size of rnns\n",
    "    :param input_data: Input data\n",
    "    :param vocab_size: Vocabulary size\n",
    "    :param embed_dim: Number of embedding dimensions\n",
    "    :return: Tuple (Logits, FinalState)\n",
    "    \"\"\"\n",
    "    embed = get_embed(input_data, vocab_size, embed_dim)\n",
    "    outputs, final_state = build_rnn(cell, embed)\n",
    "    logits = tf.contrib.layers.fully_connected(outputs,vocab_size, \n",
    "                weights_initializer=tf.truncated_normal_initializer(stddev = 1/sqrt(rnn_size*vocab_size)),\n",
    "                biases_initializer=tf.zeros_initializer(),\n",
    "                activation_fn=None)\n",
    "\n",
    "    return logits, final_state\n",
    "\n",
    "\n",
    "\"\"\"\n",
    "DON'T MODIFY ANYTHING IN THIS CELL THAT IS BELOW THIS LINE\n",
    "\"\"\"\n",
    "tests.test_build_nn(build_nn)"
   ]
  },
  {
   "cell_type": "markdown",
   "metadata": {
    "deletable": true,
    "editable": true
   },
   "source": [
    "### Batches\n",
    "Implement `get_batches` to create batches of input and targets using `int_text`.  The batches should be a Numpy array with the shape `(number of batches, 2, batch size, sequence length)`. Each batch contains two elements:\n",
    "- The first element is a single batch of **input** with the shape `[batch size, sequence length]`\n",
    "- The second element is a single batch of **targets** with the shape `[batch size, sequence length]`\n",
    "\n",
    "If you can't fill the last batch with enough data, drop the last batch.\n",
    "\n",
    "For exmple, `get_batches([1, 2, 3, 4, 5, 6, 7, 8, 9, 10, 11, 12, 13, 14, 15, 16, 17, 18, 19, 20], 3, 2)` would return a Numpy array of the following:\n",
    "```\n",
    "[\n",
    "  # First Batch\n",
    "  [\n",
    "    # Batch of Input\n",
    "    [[ 1  2], [ 7  8], [13 14]]\n",
    "    # Batch of targets\n",
    "    [[ 2  3], [ 8  9], [14 15]]\n",
    "  ]\n",
    "\n",
    "  # Second Batch\n",
    "  [\n",
    "    # Batch of Input\n",
    "    [[ 3  4], [ 9 10], [15 16]]\n",
    "    # Batch of targets\n",
    "    [[ 4  5], [10 11], [16 17]]\n",
    "  ]\n",
    "\n",
    "  # Third Batch\n",
    "  [\n",
    "    # Batch of Input\n",
    "    [[ 5  6], [11 12], [17 18]]\n",
    "    # Batch of targets\n",
    "    [[ 6  7], [12 13], [18  1]]\n",
    "  ]\n",
    "]\n",
    "```\n",
    "\n",
    "Notice that the last target value in the last batch is the first input value of the first batch. In this case, `1`. This is a common technique used when creating sequence batches, although it is rather unintuitive."
   ]
  },
  {
   "cell_type": "code",
   "execution_count": 13,
   "metadata": {
    "collapsed": false,
    "deletable": true,
    "editable": true
   },
   "outputs": [
    {
     "name": "stdout",
     "output_type": "stream",
     "text": [
      "Tests Passed\n"
     ]
    }
   ],
   "source": [
    "def get_batches(int_text, batch_size, seq_length):\n",
    "    \"\"\"\n",
    "    Return batches of input and target\n",
    "    :param int_text: Text with the words replaced by their ids\n",
    "    :param batch_size: The size of batch\n",
    "    :param seq_length: The length of sequence\n",
    "    :return: Batches as a Numpy array\n",
    "    \"\"\"\n",
    "    num_batches = len(int_text)//(batch_size*seq_length)\n",
    "    drop_tail = len(int_text) %(batch_size*seq_length*num_batches)\n",
    "    int_text = int_text[:-drop_tail]\n",
    "    #print(int_text, num_batches)\n",
    "    target_text = int_text[1:] + int_text[0:1]\n",
    "    step = num_batches\n",
    "    batches = []\n",
    "    for _ in range(num_batches):\n",
    "        batches.append([[],[]])\n",
    "    start = 0\n",
    "    while start+num_batches*seq_length <=len(int_text):\n",
    "        for b in range(num_batches):\n",
    "            this_input = int_text[start:start+seq_length]\n",
    "            this_target = target_text[start:start+seq_length]\n",
    "            batches[b][0].append(this_input)\n",
    "            batches[b][1].append(this_target)\n",
    "            start+=seq_length\n",
    "            \n",
    "        #print(batches)\n",
    "    return np.array(batches)\n",
    "\n",
    "#a =get_batches(list(range(20)),3,2)\n",
    "#print(a, a.shape)\n",
    "\"\"\"\n",
    "DON'T MODIFY ANYTHING IN THIS CELL THAT IS BELOW THIS LINE\n",
    "\"\"\"\n",
    "tests.test_get_batches(get_batches)"
   ]
  },
  {
   "cell_type": "markdown",
   "metadata": {
    "deletable": true,
    "editable": true
   },
   "source": [
    "## Neural Network Training\n",
    "### Hyperparameters\n",
    "Tune the following parameters:\n",
    "\n",
    "- Set `num_epochs` to the number of epochs.\n",
    "- Set `batch_size` to the batch size.\n",
    "- Set `rnn_size` to the size of the RNNs.\n",
    "- Set `embed_dim` to the size of the embedding.\n",
    "- Set `seq_length` to the length of sequence.\n",
    "- Set `learning_rate` to the learning rate.\n",
    "- Set `show_every_n_batches` to the number of batches the neural network should print progress."
   ]
  },
  {
   "cell_type": "code",
   "execution_count": 14,
   "metadata": {
    "collapsed": false,
    "deletable": true,
    "editable": true
   },
   "outputs": [],
   "source": [
    "# Number of Epochs\n",
    "num_epochs = 300\n",
    "# Batch Size\n",
    "batch_size = 32 # keep it smallish for hopefully better end fit \n",
    "# RNN Size\n",
    "rnn_size = 256\n",
    "# Embedding Dimension Size\n",
    "embed_dim = 50\n",
    "# Sequence Length\n",
    "seq_length = 30\n",
    "# Learning Rate\n",
    "def learning_rate(epoch):\n",
    "    if epoch < 50:\n",
    "        return 0.01\n",
    "    elif epoch < 100: \n",
    "        return 0.003\n",
    "    else:\n",
    "        return 0.0001\n",
    "        \n",
    "# Show stats for every n number of batches\n",
    "show_every_n_batches = 100\n",
    "# number of rnn layers\n",
    "num_layers = 2\n",
    "# dropout rate \n",
    "keep_prob =0.95\n",
    "\n",
    "\"\"\"\n",
    "DON'T MODIFY ANYTHING IN THIS CELL THAT IS BELOW THIS LINE\n",
    "\"\"\"\n",
    "save_dir = './save'"
   ]
  },
  {
   "cell_type": "markdown",
   "metadata": {
    "deletable": true,
    "editable": true
   },
   "source": [
    "### Build the Graph\n",
    "Build the graph using the neural network you implemented."
   ]
  },
  {
   "cell_type": "code",
   "execution_count": 15,
   "metadata": {
    "collapsed": false,
    "deletable": true,
    "editable": true
   },
   "outputs": [],
   "source": [
    "\"\"\"\n",
    "DON'T MODIFY ANYTHING IN THIS CELL\n",
    "\"\"\"\n",
    "from tensorflow.contrib import seq2seq\n",
    "\n",
    "train_graph = tf.Graph()\n",
    "with train_graph.as_default():\n",
    "    keep_prob_ph = tf.placeholder(tf.float32, name = 'keep_prob')\n",
    "    vocab_size = len(int_to_vocab)\n",
    "    input_text, targets, lr = get_inputs()\n",
    "    input_data_shape = tf.shape(input_text)\n",
    "    cell, initial_state = get_init_cell(input_data_shape[0], rnn_size, \n",
    "                        rnn_layers = num_layers, keep_prob = keep_prob_ph, \n",
    "                        cell_type = tf.contrib.rnn.GRUCell)\n",
    "    \n",
    "    #cell, initial_state = get_init_cell(input_data_shape[0], rnn_size)\n",
    "    logits, final_state = build_nn(cell, rnn_size, input_text, \n",
    "                            vocab_size, embed_dim)\n",
    "\n",
    "    # Probabilities for generating words\n",
    "    probs = tf.nn.softmax(logits, name='probs')\n",
    "\n",
    "    # Loss function\n",
    "    cost = seq2seq.sequence_loss(\n",
    "        logits,\n",
    "        targets,\n",
    "        tf.ones([input_data_shape[0], input_data_shape[1]]))\n",
    "\n",
    "    # Optimizer\n",
    "    optimizer = tf.train.AdamOptimizer(lr)\n",
    "\n",
    "    # Gradient Clipping\n",
    "    gradients = optimizer.compute_gradients(cost)\n",
    "    capped_gradients = [(tf.clip_by_value(grad, -1., 1.), var) for grad, var in gradients if grad is not None]\n",
    "    train_op = optimizer.apply_gradients(capped_gradients)"
   ]
  },
  {
   "cell_type": "markdown",
   "metadata": {
    "deletable": true,
    "editable": true
   },
   "source": [
    "## Train\n",
    "Train the neural network on the preprocessed data.  If you have a hard time getting a good loss, check the [forms](https://discussions.udacity.com/) to see if anyone is having the same problem."
   ]
  },
  {
   "cell_type": "code",
   "execution_count": 16,
   "metadata": {
    "collapsed": false,
    "deletable": true,
    "editable": true
   },
   "outputs": [
    {
     "name": "stdout",
     "output_type": "stream",
     "text": [
      "Epoch   0 Batch    0/71   train_loss = 8.822\n",
      "Epoch   1 Batch   29/71   train_loss = 6.224\n",
      "Epoch   2 Batch   58/71   train_loss = 5.474\n",
      "Epoch   4 Batch   16/71   train_loss = 4.996\n",
      "Epoch   5 Batch   45/71   train_loss = 4.636\n",
      "Epoch   7 Batch    3/71   train_loss = 4.636\n",
      "Epoch   8 Batch   32/71   train_loss = 4.460\n",
      "Epoch   9 Batch   61/71   train_loss = 4.403\n",
      "Epoch  11 Batch   19/71   train_loss = 4.134\n",
      "Epoch  12 Batch   48/71   train_loss = 4.024\n",
      "Epoch  14 Batch    6/71   train_loss = 4.026\n",
      "Epoch  15 Batch   35/71   train_loss = 4.184\n",
      "Epoch  16 Batch   64/71   train_loss = 3.888\n",
      "Epoch  18 Batch   22/71   train_loss = 3.719\n",
      "Epoch  19 Batch   51/71   train_loss = 3.661\n",
      "Epoch  21 Batch    9/71   train_loss = 3.493\n",
      "Epoch  22 Batch   38/71   train_loss = 3.499\n",
      "Epoch  23 Batch   67/71   train_loss = 3.377\n",
      "Epoch  25 Batch   25/71   train_loss = 3.318\n",
      "Epoch  26 Batch   54/71   train_loss = 3.164\n",
      "Epoch  28 Batch   12/71   train_loss = 3.159\n",
      "Epoch  29 Batch   41/71   train_loss = 3.070\n",
      "Epoch  30 Batch   70/71   train_loss = 2.759\n",
      "Epoch  32 Batch   28/71   train_loss = 2.698\n",
      "Epoch  33 Batch   57/71   train_loss = 2.872\n",
      "Epoch  35 Batch   15/71   train_loss = 2.623\n",
      "Epoch  36 Batch   44/71   train_loss = 2.465\n",
      "Epoch  38 Batch    2/71   train_loss = 2.385\n",
      "Epoch  39 Batch   31/71   train_loss = 2.439\n",
      "Epoch  40 Batch   60/71   train_loss = 2.188\n",
      "Epoch  42 Batch   18/71   train_loss = 2.221\n",
      "Epoch  43 Batch   47/71   train_loss = 2.282\n",
      "Epoch  45 Batch    5/71   train_loss = 2.037\n",
      "Epoch  46 Batch   34/71   train_loss = 2.078\n",
      "Epoch  47 Batch   63/71   train_loss = 2.053\n",
      "Epoch  49 Batch   21/71   train_loss = 1.954\n",
      "Epoch  50 Batch   50/71   train_loss = 1.959\n",
      "Epoch  52 Batch    8/71   train_loss = 1.630\n",
      "Epoch  53 Batch   37/71   train_loss = 1.626\n",
      "Epoch  54 Batch   66/71   train_loss = 1.640\n",
      "Epoch  56 Batch   24/71   train_loss = 1.531\n",
      "Epoch  57 Batch   53/71   train_loss = 1.490\n",
      "Epoch  59 Batch   11/71   train_loss = 1.474\n",
      "Epoch  60 Batch   40/71   train_loss = 1.466\n",
      "Epoch  61 Batch   69/71   train_loss = 1.395\n",
      "Epoch  63 Batch   27/71   train_loss = 1.520\n",
      "Epoch  64 Batch   56/71   train_loss = 1.322\n",
      "Epoch  66 Batch   14/71   train_loss = 1.337\n",
      "Epoch  67 Batch   43/71   train_loss = 1.135\n",
      "Epoch  69 Batch    1/71   train_loss = 1.181\n",
      "Epoch  70 Batch   30/71   train_loss = 1.202\n",
      "Epoch  71 Batch   59/71   train_loss = 1.195\n",
      "Epoch  73 Batch   17/71   train_loss = 1.322\n",
      "Epoch  74 Batch   46/71   train_loss = 1.107\n",
      "Epoch  76 Batch    4/71   train_loss = 1.161\n",
      "Epoch  77 Batch   33/71   train_loss = 1.092\n",
      "Epoch  78 Batch   62/71   train_loss = 1.027\n",
      "Epoch  80 Batch   20/71   train_loss = 1.003\n",
      "Epoch  81 Batch   49/71   train_loss = 1.088\n",
      "Epoch  83 Batch    7/71   train_loss = 0.997\n",
      "Epoch  84 Batch   36/71   train_loss = 0.969\n",
      "Epoch  85 Batch   65/71   train_loss = 1.106\n",
      "Epoch  87 Batch   23/71   train_loss = 1.057\n",
      "Epoch  88 Batch   52/71   train_loss = 1.009\n",
      "Epoch  90 Batch   10/71   train_loss = 0.997\n",
      "Epoch  91 Batch   39/71   train_loss = 0.976\n",
      "Epoch  92 Batch   68/71   train_loss = 0.935\n",
      "Epoch  94 Batch   26/71   train_loss = 0.872\n",
      "Epoch  95 Batch   55/71   train_loss = 0.798\n",
      "Epoch  97 Batch   13/71   train_loss = 0.799\n",
      "Epoch  98 Batch   42/71   train_loss = 0.714\n",
      "Epoch 100 Batch    0/71   train_loss = 0.787\n",
      "Epoch 101 Batch   29/71   train_loss = 0.837\n",
      "Epoch 102 Batch   58/71   train_loss = 0.798\n",
      "Epoch 104 Batch   16/71   train_loss = 0.718\n",
      "Epoch 105 Batch   45/71   train_loss = 0.771\n",
      "Epoch 107 Batch    3/71   train_loss = 0.817\n",
      "Epoch 108 Batch   32/71   train_loss = 0.795\n",
      "Epoch 109 Batch   61/71   train_loss = 0.801\n",
      "Epoch 111 Batch   19/71   train_loss = 0.823\n",
      "Epoch 112 Batch   48/71   train_loss = 0.782\n",
      "Epoch 114 Batch    6/71   train_loss = 0.796\n",
      "Epoch 115 Batch   35/71   train_loss = 0.655\n",
      "Epoch 116 Batch   64/71   train_loss = 0.743\n",
      "Epoch 118 Batch   22/71   train_loss = 0.777\n",
      "Epoch 119 Batch   51/71   train_loss = 0.718\n",
      "Epoch 121 Batch    9/71   train_loss = 0.788\n",
      "Epoch 122 Batch   38/71   train_loss = 0.665\n",
      "Epoch 123 Batch   67/71   train_loss = 0.717\n",
      "Epoch 125 Batch   25/71   train_loss = 0.744\n",
      "Epoch 126 Batch   54/71   train_loss = 0.711\n",
      "Epoch 128 Batch   12/71   train_loss = 0.708\n",
      "Epoch 129 Batch   41/71   train_loss = 0.693\n",
      "Epoch 130 Batch   70/71   train_loss = 0.708\n",
      "Epoch 132 Batch   28/71   train_loss = 0.755\n",
      "Epoch 133 Batch   57/71   train_loss = 0.723\n",
      "Epoch 135 Batch   15/71   train_loss = 0.810\n",
      "Epoch 136 Batch   44/71   train_loss = 0.684\n",
      "Epoch 138 Batch    2/71   train_loss = 0.698\n",
      "Epoch 139 Batch   31/71   train_loss = 0.791\n",
      "Epoch 140 Batch   60/71   train_loss = 0.642\n",
      "Epoch 142 Batch   18/71   train_loss = 0.759\n",
      "Epoch 143 Batch   47/71   train_loss = 0.821\n",
      "Epoch 145 Batch    5/71   train_loss = 0.734\n",
      "Epoch 146 Batch   34/71   train_loss = 0.610\n",
      "Epoch 147 Batch   63/71   train_loss = 0.692\n",
      "Epoch 149 Batch   21/71   train_loss = 0.770\n",
      "Epoch 150 Batch   50/71   train_loss = 0.786\n",
      "Epoch 152 Batch    8/71   train_loss = 0.668\n",
      "Epoch 153 Batch   37/71   train_loss = 0.685\n",
      "Epoch 154 Batch   66/71   train_loss = 0.729\n",
      "Epoch 156 Batch   24/71   train_loss = 0.800\n",
      "Epoch 157 Batch   53/71   train_loss = 0.728\n",
      "Epoch 159 Batch   11/71   train_loss = 0.764\n",
      "Epoch 160 Batch   40/71   train_loss = 0.655\n",
      "Epoch 161 Batch   69/71   train_loss = 0.763\n",
      "Epoch 163 Batch   27/71   train_loss = 0.847\n",
      "Epoch 164 Batch   56/71   train_loss = 0.711\n",
      "Epoch 166 Batch   14/71   train_loss = 0.772\n",
      "Epoch 167 Batch   43/71   train_loss = 0.592\n",
      "Epoch 169 Batch    1/71   train_loss = 0.640\n",
      "Epoch 170 Batch   30/71   train_loss = 0.706\n",
      "Epoch 171 Batch   59/71   train_loss = 0.644\n",
      "Epoch 173 Batch   17/71   train_loss = 0.836\n",
      "Epoch 174 Batch   46/71   train_loss = 0.668\n",
      "Epoch 176 Batch    4/71   train_loss = 0.730\n",
      "Epoch 177 Batch   33/71   train_loss = 0.667\n",
      "Epoch 178 Batch   62/71   train_loss = 0.650\n",
      "Epoch 180 Batch   20/71   train_loss = 0.641\n",
      "Epoch 181 Batch   49/71   train_loss = 0.725\n",
      "Epoch 183 Batch    7/71   train_loss = 0.677\n",
      "Epoch 184 Batch   36/71   train_loss = 0.663\n",
      "Epoch 185 Batch   65/71   train_loss = 0.781\n",
      "Epoch 187 Batch   23/71   train_loss = 0.762\n",
      "Epoch 188 Batch   52/71   train_loss = 0.724\n",
      "Epoch 190 Batch   10/71   train_loss = 0.779\n",
      "Epoch 191 Batch   39/71   train_loss = 0.746\n",
      "Epoch 192 Batch   68/71   train_loss = 0.714\n",
      "Epoch 194 Batch   26/71   train_loss = 0.644\n",
      "Epoch 195 Batch   55/71   train_loss = 0.613\n",
      "Epoch 197 Batch   13/71   train_loss = 0.686\n",
      "Epoch 198 Batch   42/71   train_loss = 0.603\n",
      "Epoch 200 Batch    0/71   train_loss = 0.650\n",
      "Epoch 201 Batch   29/71   train_loss = 0.690\n",
      "Epoch 202 Batch   58/71   train_loss = 0.711\n",
      "Epoch 204 Batch   16/71   train_loss = 0.646\n",
      "Epoch 205 Batch   45/71   train_loss = 0.669\n",
      "Epoch 207 Batch    3/71   train_loss = 0.705\n",
      "Epoch 208 Batch   32/71   train_loss = 0.688\n",
      "Epoch 209 Batch   61/71   train_loss = 0.700\n",
      "Epoch 211 Batch   19/71   train_loss = 0.719\n",
      "Epoch 212 Batch   48/71   train_loss = 0.731\n",
      "Epoch 214 Batch    6/71   train_loss = 0.710\n",
      "Epoch 215 Batch   35/71   train_loss = 0.644\n",
      "Epoch 216 Batch   64/71   train_loss = 0.679\n",
      "Epoch 218 Batch   22/71   train_loss = 0.668\n",
      "Epoch 219 Batch   51/71   train_loss = 0.674\n",
      "Epoch 221 Batch    9/71   train_loss = 0.695\n",
      "Epoch 222 Batch   38/71   train_loss = 0.608\n",
      "Epoch 223 Batch   67/71   train_loss = 0.649\n",
      "Epoch 225 Batch   25/71   train_loss = 0.692\n",
      "Epoch 226 Batch   54/71   train_loss = 0.605\n",
      "Epoch 228 Batch   12/71   train_loss = 0.611\n",
      "Epoch 229 Batch   41/71   train_loss = 0.647\n",
      "Epoch 230 Batch   70/71   train_loss = 0.659\n",
      "Epoch 232 Batch   28/71   train_loss = 0.659\n",
      "Epoch 233 Batch   57/71   train_loss = 0.658\n",
      "Epoch 235 Batch   15/71   train_loss = 0.723\n",
      "Epoch 236 Batch   44/71   train_loss = 0.617\n",
      "Epoch 238 Batch    2/71   train_loss = 0.623\n",
      "Epoch 239 Batch   31/71   train_loss = 0.709\n",
      "Epoch 240 Batch   60/71   train_loss = 0.621\n",
      "Epoch 242 Batch   18/71   train_loss = 0.716\n",
      "Epoch 243 Batch   47/71   train_loss = 0.738\n",
      "Epoch 245 Batch    5/71   train_loss = 0.652\n",
      "Epoch 246 Batch   34/71   train_loss = 0.568\n",
      "Epoch 247 Batch   63/71   train_loss = 0.681\n",
      "Epoch 249 Batch   21/71   train_loss = 0.727\n",
      "Epoch 250 Batch   50/71   train_loss = 0.734\n",
      "Epoch 252 Batch    8/71   train_loss = 0.604\n",
      "Epoch 253 Batch   37/71   train_loss = 0.602\n",
      "Epoch 254 Batch   66/71   train_loss = 0.680\n",
      "Epoch 256 Batch   24/71   train_loss = 0.703\n",
      "Epoch 257 Batch   53/71   train_loss = 0.665\n",
      "Epoch 259 Batch   11/71   train_loss = 0.678\n",
      "Epoch 260 Batch   40/71   train_loss = 0.643\n",
      "Epoch 261 Batch   69/71   train_loss = 0.670\n",
      "Epoch 263 Batch   27/71   train_loss = 0.760\n",
      "Epoch 264 Batch   56/71   train_loss = 0.684\n",
      "Epoch 266 Batch   14/71   train_loss = 0.698\n",
      "Epoch 267 Batch   43/71   train_loss = 0.538\n",
      "Epoch 269 Batch    1/71   train_loss = 0.563\n",
      "Epoch 270 Batch   30/71   train_loss = 0.625\n",
      "Epoch 271 Batch   59/71   train_loss = 0.613\n",
      "Epoch 273 Batch   17/71   train_loss = 0.777\n",
      "Epoch 274 Batch   46/71   train_loss = 0.610\n",
      "Epoch 276 Batch    4/71   train_loss = 0.674\n",
      "Epoch 277 Batch   33/71   train_loss = 0.633\n",
      "Epoch 278 Batch   62/71   train_loss = 0.590\n",
      "Epoch 280 Batch   20/71   train_loss = 0.601\n",
      "Epoch 281 Batch   49/71   train_loss = 0.722\n",
      "Epoch 283 Batch    7/71   train_loss = 0.631\n",
      "Epoch 284 Batch   36/71   train_loss = 0.618\n",
      "Epoch 285 Batch   65/71   train_loss = 0.713\n",
      "Epoch 287 Batch   23/71   train_loss = 0.702\n",
      "Epoch 288 Batch   52/71   train_loss = 0.635\n",
      "Epoch 290 Batch   10/71   train_loss = 0.678\n",
      "Epoch 291 Batch   39/71   train_loss = 0.696\n",
      "Epoch 292 Batch   68/71   train_loss = 0.676\n",
      "Epoch 294 Batch   26/71   train_loss = 0.601\n",
      "Epoch 295 Batch   55/71   train_loss = 0.579\n",
      "Epoch 297 Batch   13/71   train_loss = 0.663\n",
      "Epoch 298 Batch   42/71   train_loss = 0.557\n",
      "Model Trained and Saved\n"
     ]
    }
   ],
   "source": [
    "\"\"\"\n",
    "DON'T MODIFY ANYTHING IN THIS CELL\n",
    "\"\"\"\n",
    "batches = get_batches(int_text, batch_size, seq_length)\n",
    "\n",
    "with tf.Session(graph=train_graph) as sess:\n",
    "    sess.run(tf.global_variables_initializer())\n",
    "\n",
    "    for epoch_i in range(num_epochs):\n",
    "        state = sess.run(initial_state, {input_text: batches[0][0]})\n",
    "        lr_ = learning_rate(epoch_i)\n",
    "        for batch_i, (x, y) in enumerate(batches):\n",
    "            feed = {\n",
    "                input_text: x,\n",
    "                targets: y,\n",
    "                initial_state: state,\n",
    "                lr: lr_,\n",
    "                keep_prob_ph: keep_prob\n",
    "                }\n",
    "            train_loss, state, _ = sess.run([cost, final_state, train_op], feed)\n",
    "\n",
    "            # Show every <show_every_n_batches> batches\n",
    "            if (epoch_i * len(batches) + batch_i) % show_every_n_batches == 0:\n",
    "                print('Epoch {:>3} Batch {:>4}/{}   train_loss = {:.3f}'.format(\n",
    "                    epoch_i,\n",
    "                    batch_i,\n",
    "                    len(batches),\n",
    "                    train_loss))\n",
    "\n",
    "    # Save Model\n",
    "    saver = tf.train.Saver()\n",
    "    saver.save(sess, save_dir)\n",
    "    print('Model Trained and Saved')"
   ]
  },
  {
   "cell_type": "markdown",
   "metadata": {
    "deletable": true,
    "editable": true
   },
   "source": [
    "## Save Parameters\n",
    "Save `seq_length` and `save_dir` for generating a new TV script."
   ]
  },
  {
   "cell_type": "code",
   "execution_count": 17,
   "metadata": {
    "collapsed": false,
    "deletable": true,
    "editable": true
   },
   "outputs": [],
   "source": [
    "\"\"\"\n",
    "DON'T MODIFY ANYTHING IN THIS CELL\n",
    "\"\"\"\n",
    "# Save parameters for checkpoint\n",
    "helper.save_params((seq_length, save_dir))"
   ]
  },
  {
   "cell_type": "markdown",
   "metadata": {
    "deletable": true,
    "editable": true
   },
   "source": [
    "# Checkpoint"
   ]
  },
  {
   "cell_type": "code",
   "execution_count": 18,
   "metadata": {
    "collapsed": false,
    "deletable": true,
    "editable": true
   },
   "outputs": [],
   "source": [
    "\"\"\"\n",
    "DON'T MODIFY ANYTHING IN THIS CELL\n",
    "\"\"\"\n",
    "import tensorflow as tf\n",
    "import numpy as np\n",
    "import helper\n",
    "import problem_unittests as tests\n",
    "\n",
    "_, vocab_to_int, int_to_vocab, token_dict = helper.load_preprocess()\n",
    "seq_length, load_dir = helper.load_params()"
   ]
  },
  {
   "cell_type": "markdown",
   "metadata": {
    "deletable": true,
    "editable": true
   },
   "source": [
    "## Implement Generate Functions\n",
    "### Get Tensors\n",
    "Get tensors from `loaded_graph` using the function [`get_tensor_by_name()`](https://www.tensorflow.org/api_docs/python/tf/Graph#get_tensor_by_name).  Get the tensors using the following names:\n",
    "- \"input:0\"\n",
    "- \"initial_state:0\"\n",
    "- \"final_state:0\"\n",
    "- \"probs:0\"\n",
    "\n",
    "Return the tensors in the following tuple `(InputTensor, InitialStateTensor, FinalStateTensor, ProbsTensor)` "
   ]
  },
  {
   "cell_type": "code",
   "execution_count": 19,
   "metadata": {
    "collapsed": false,
    "deletable": true,
    "editable": true
   },
   "outputs": [
    {
     "name": "stdout",
     "output_type": "stream",
     "text": [
      "Tests Passed\n"
     ]
    }
   ],
   "source": [
    "def get_tensors(loaded_graph):\n",
    "    \"\"\"\n",
    "    Get input, initial state, final state, and probabilities tensor from <loaded_graph>\n",
    "    :param loaded_graph: TensorFlow graph loaded from file\n",
    "    :return: Tuple (InputTensor, InitialStateTensor, FinalStateTensor, ProbsTensor)\n",
    "    \"\"\"\n",
    "    input = loaded_graph.get_tensor_by_name(\"input:0\")\n",
    "    initial_state = loaded_graph.get_tensor_by_name(\"initial_state:0\")\n",
    "    final_state = loaded_graph.get_tensor_by_name(\"final_state:0\")\n",
    "    probs = loaded_graph.get_tensor_by_name(\"probs:0\")\n",
    "    \n",
    "    return input, initial_state, final_state, probs\n",
    "\n",
    "\n",
    "\"\"\"\n",
    "DON'T MODIFY ANYTHING IN THIS CELL THAT IS BELOW THIS LINE\n",
    "\"\"\"\n",
    "tests.test_get_tensors(get_tensors)"
   ]
  },
  {
   "cell_type": "markdown",
   "metadata": {
    "deletable": true,
    "editable": true
   },
   "source": [
    "### Choose Word\n",
    "Implement the `pick_word()` function to select the next word using `probabilities`."
   ]
  },
  {
   "cell_type": "code",
   "execution_count": 20,
   "metadata": {
    "collapsed": false,
    "deletable": true,
    "editable": true
   },
   "outputs": [
    {
     "name": "stdout",
     "output_type": "stream",
     "text": [
      "Tests Passed\n"
     ]
    }
   ],
   "source": [
    "from numpy.random import choice\n",
    "def pick_word(probabilities, int_to_vocab):\n",
    "    \"\"\"\n",
    "    Pick the next word in the generated text\n",
    "    :param probabilities: Probabilites of the next word\n",
    "    :param int_to_vocab: Dictionary of word ids as the keys and words as the values\n",
    "    :return: String of the predicted word\n",
    "    \"\"\"\n",
    "    my_int= choice(range(len(probabilities)), p = probabilities)\n",
    "    return int_to_vocab[my_int]\n",
    "\n",
    "\n",
    "\"\"\"\n",
    "DON'T MODIFY ANYTHING IN THIS CELL THAT IS BELOW THIS LINE\n",
    "\"\"\"\n",
    "tests.test_pick_word(pick_word)"
   ]
  },
  {
   "cell_type": "markdown",
   "metadata": {
    "deletable": true,
    "editable": true
   },
   "source": [
    "## Generate TV Script\n",
    "This will generate the TV script for you.  Set `gen_length` to the length of TV script you want to generate."
   ]
  },
  {
   "cell_type": "code",
   "execution_count": 21,
   "metadata": {
    "collapsed": false,
    "deletable": true,
    "editable": true
   },
   "outputs": [
    {
     "name": "stdout",
     "output_type": "stream",
     "text": [
      "moe_szyslak: legally, you gotta never go to the media and it is in the school!\n",
      "moe_szyslak: hey, hey.\n",
      "moe's_thoughts: uh-oh.\n",
      "moe_szyslak: yeah, this was a little...\n",
      "homer_simpson: oh!\n",
      "homer_simpson:(sunk) i dunno.\n",
      "barney_gumble: here, moe, where am i am, get it all--\n",
      "c. _hooper: at the?\n",
      "marge_simpson: moe, i feel pretty good. i did you lost lenny there was the black enemies)\n",
      "homer_simpson:(pointed noise\") oh yeah.\n",
      "moe_szyslak: yeah, edna's amazing.\n",
      "moe_szyslak: looks like crazy is me.\n",
      "moe_szyslak: listen, i'm still the family now.\n",
      "moe_szyslak:(small and sad) okay, this is.(to homer) seymour, as something i do?\n",
      "milhouse_van_houten:... nobody more of a million.\n",
      "homer_simpson: what?\n",
      "moe_szyslak: so freaking i can leave any outside.\n",
      "lenny_leonard: who get the baby!\n",
      "carl_carlson: yes, yeah, how can you gonna be in the car?\n",
      "moe_szyslak:(thoughtful into always singing) homer, you said me and you lost the uh, the repeating burt have a fan.\n",
      "\n",
      "\n",
      "moe_szyslak:(\" excitement) you guys are no day, you need your cash who play in the other face, all what? i need out. help 'em,(surprised) ahh. this guy is on with the mind, i want you been going out. you sure has the ugliest beer in me.\n",
      "moe_szyslak: i got it! i guess the canyonero that's ones!\n",
      "\n",
      "\n",
      "adult_bart: homer, maybe you're gonna be okay?\n",
      "moe_szyslak: eh, screw it, has don't do, moe? move me by a family.\n",
      "barney_gumble: what... this is the organ, carl?\n",
      "homer_simpson: what is that like the time you was.\n",
      "homer_simpson: chief moe. you know, all that for the car, booze everybody.\n",
      "\n",
      "\n",
      "homer_simpson:(lowers glass)... that's call a new back?\n",
      "homer_simpson: i still did.\n",
      "homer_simpson: i'd pass you, sweetheart, a little busy, a pack of wallet) no, a, uh, he did a passion, moe.\n",
      "homer_simpson: oh, barney. but are we had a big hope... we can be neat to moe you...\n",
      "carl_carlson: okay, like, moe.\n",
      "moe's_thoughts:(shout) he's not your birthday!\n",
      "moe_szyslak:(worried murmur) that's the worst name. / it's too late, the friend, a hunka beef jerky, a couple pickled eggs and these forehead.\n"
     ]
    }
   ],
   "source": [
    "gen_length = 500\n",
    "# homer_simpson, moe_szyslak, or Barney_Gumble\n",
    "prime_word = 'moe_szyslak'\n",
    "\n",
    "\"\"\"\n",
    "DON'T MODIFY ANYTHING IN THIS CELL THAT IS BELOW THIS LINE\n",
    "\"\"\"\n",
    "loaded_graph = tf.Graph()\n",
    "with tf.Session(graph=loaded_graph) as sess:\n",
    "    # Load saved model\n",
    "    loader = tf.train.import_meta_graph(load_dir + '.meta')\n",
    "    loader.restore(sess, load_dir)\n",
    "\n",
    "    # Get Tensors from loaded model\n",
    "    input_text, initial_state, final_state, probs = get_tensors(loaded_graph)\n",
    "    keep_prob_ph = loaded_graph.get_tensor_by_name(\"keep_prob:0\")\n",
    "    # Sentences generation setup\n",
    "    gen_sentences = [prime_word + ':']\n",
    "    prev_state = sess.run(initial_state, {input_text: np.array([[1]])})\n",
    "\n",
    "    # Generate sentences\n",
    "    for n in range(gen_length):\n",
    "        # Dynamic Input\n",
    "        dyn_input = [[vocab_to_int[word] for word in gen_sentences[-seq_length:]]]\n",
    "        dyn_seq_length = len(dyn_input[0])\n",
    "\n",
    "        # Get Prediction\n",
    "        probabilities, prev_state = sess.run(\n",
    "            [probs, final_state],\n",
    "            {input_text: dyn_input, initial_state: prev_state, keep_prob_ph:1.0})\n",
    "        \n",
    "        pred_word = pick_word(probabilities[dyn_seq_length-1], int_to_vocab)\n",
    "\n",
    "        gen_sentences.append(pred_word)\n",
    "    \n",
    "    # Remove tokens\n",
    "    tv_script = ' '.join(gen_sentences)\n",
    "    for key, token in token_dict.items():\n",
    "        ending = ' ' if key in ['\\n', '(', '\"'] else ''\n",
    "        tv_script = tv_script.replace(' ' + token.lower(), key)\n",
    "    tv_script = tv_script.replace('\\n ', '\\n')\n",
    "    tv_script = tv_script.replace('( ', '(')\n",
    "        \n",
    "    print(tv_script)"
   ]
  },
  {
   "cell_type": "markdown",
   "metadata": {
    "deletable": true,
    "editable": true
   },
   "source": [
    "# The TV Script is Nonsensical\n",
    "It's ok if the TV script doesn't make any sense.  We trained on less than a megabyte of text.  In order to get good results, you'll have to use a smaller vocabulary or get more data.  Luckly there's more data!  As we mentioned in the begging of this project, this is a subset of [another dataset](https://www.kaggle.com/wcukierski/the-simpsons-by-the-data).  We didn't have you train on all the data, because that would take too long.  However, you are free to train your neural network on all the data.  After you complete the project, of course.\n",
    "# Submitting This Project\n",
    "When submitting this project, make sure to run all the cells before saving the notebook. Save the notebook file as \"dlnd_tv_script_generation.ipynb\" and save it as a HTML file under \"File\" -> \"Download as\". Include the \"helper.py\" and \"problem_unittests.py\" files in your submission."
   ]
  }
 ],
 "metadata": {
  "kernelspec": {
   "display_name": "Python 3",
   "language": "python",
   "name": "python3"
  },
  "language_info": {
   "codemirror_mode": {
    "name": "ipython",
    "version": 3
   },
   "file_extension": ".py",
   "mimetype": "text/x-python",
   "name": "python",
   "nbconvert_exporter": "python",
   "pygments_lexer": "ipython3",
   "version": "3.5.2"
  },
  "widgets": {
   "state": {},
   "version": "1.1.2"
  }
 },
 "nbformat": 4,
 "nbformat_minor": 0
}
